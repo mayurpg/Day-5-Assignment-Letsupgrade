{
 "cells": [
  {
   "cell_type": "code",
   "execution_count": 9,
   "metadata": {},
   "outputs": [
    {
     "name": "stdout",
     "output_type": "stream",
     "text": [
      "List after pushing all zeros to end of list and sorting of list:\n",
      "[1, 1, 1, 2, 2, 3, 4, 4, 10, 56, 56, 0, 0, 0, 0, 0]\n"
     ]
    }
   ],
   "source": [
    "# Assignment 1\n",
    "# Python3 code to move all zeroes and sort the list. \n",
    "def pushZerosToEnd(arr, n): \n",
    "\tcount = 0 # Count of non-zero element\n",
    "\tfor i in range(n): \n",
    "\t\tif arr[i] != 0:  \n",
    "\t\t\tarr[count] = arr[i] \n",
    "\t\t\tcount+=1 \n",
    "\twhile count < n: \n",
    "\t\tarr[count] = 0\n",
    "\t\tcount += 1\n",
    "\t\t\n",
    "arr = [0,1,2,10,4,1,0,56,2,0,1,3,0,56,0,4] \n",
    "n = len(arr) \n",
    "arr.sort()\n",
    "pushZerosToEnd(arr, n) \n",
    "print(\"List after pushing all zeros to end of list and sorting of list:\") \n",
    "print(arr)"
   ]
  },
  {
   "cell_type": "code",
   "execution_count": 8,
   "metadata": {},
   "outputs": [
    {
     "name": "stdout",
     "output_type": "stream",
     "text": [
      "The original list 1 is : [10, 20, 40, 60, 70, 80]\n",
      "The original list 2 is : [5, 15, 25, 35, 45, 60]\n",
      "The combined sorted list is : [5, 10, 15, 20, 25, 35, 40, 45, 60, 60, 70, 80]\n"
     ]
    }
   ],
   "source": [
    "#Assignment 2\n",
    "# to combine two sorted list \n",
    "\n",
    "test_list1 = [10,20,40,60,70,80] \n",
    "test_list2 = [5,15,25,35,45,60] \n",
    "\n",
    "# printing original lists \n",
    "print (\"The original list 1 is : \" + str(test_list1)) \n",
    "print (\"The original list 2 is : \" + str(test_list2)) \n",
    "\n",
    "# to combine two sorted lists \n",
    "res = sorted(test_list1 + test_list2) \n",
    "\n",
    "# printing result \n",
    "print (\"The combined sorted list is : \" + str(res)) "
   ]
  },
  {
   "cell_type": "code",
   "execution_count": null,
   "metadata": {},
   "outputs": [],
   "source": []
  }
 ],
 "metadata": {
  "kernelspec": {
   "display_name": "Python 3",
   "language": "python",
   "name": "python3"
  },
  "language_info": {
   "codemirror_mode": {
    "name": "ipython",
    "version": 3
   },
   "file_extension": ".py",
   "mimetype": "text/x-python",
   "name": "python",
   "nbconvert_exporter": "python",
   "pygments_lexer": "ipython3",
   "version": "3.7.6"
  }
 },
 "nbformat": 4,
 "nbformat_minor": 4
}
